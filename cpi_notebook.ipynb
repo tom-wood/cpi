{
 "cells": [
  {
   "cell_type": "code",
   "execution_count": 1,
   "metadata": {
    "collapsed": false
   },
   "outputs": [],
   "source": [
    "from cpi import *"
   ]
  },
  {
   "cell_type": "markdown",
   "metadata": {},
   "source": [
    "Use ```plot_settings.setp()``` to set common matplotlib defaults (others can be set using ```mpl.rcParams```); ```'cmap'``` can take any of the values found here: http://matplotlib.org/users/colormaps.html (you will need to manually install viridis, plasma, magma and inferno if you want to use these)."
   ]
  },
  {
   "cell_type": "code",
   "execution_count": 2,
   "metadata": {
    "collapsed": true
   },
   "outputs": [],
   "source": [
    "plot_settings = PlotDefaults()"
   ]
  },
  {
   "cell_type": "markdown",
   "metadata": {},
   "source": [
    "Specify run number range to be examined and filepath for data files"
   ]
  },
  {
   "cell_type": "code",
   "execution_count": 3,
   "metadata": {
    "collapsed": true
   },
   "outputs": [],
   "source": [
    "first_file_number = 81533\n",
    "last_file_number = 81995\n",
    "filepath = '/home/tomwood/Documents/Beamtimes/Gem_Dec16_CMK/LiK2(ND2)3_decomp/'"
   ]
  },
  {
   "cell_type": "markdown",
   "metadata": {},
   "source": [
    "Import data from log (.log) files and from reduced data (.dat) files"
   ]
  },
  {
   "cell_type": "code",
   "execution_count": 4,
   "metadata": {
    "collapsed": false,
    "scrolled": true
   },
   "outputs": [
    {
     "name": "stdout",
     "output_type": "stream",
     "text": [
      "198 runs have some beam off (less than 100.0 uA)\n",
      "Start time = 2016-12-02T04:00:45\n",
      "End time = 2016-12-03T08:55:55\n"
     ]
    }
   ],
   "source": [
    "data4_D = Dataset(filepath, first_file_number, last_file_number, beamline='Gem')\n",
    "data4_D.get_scan_times()\n",
    "data4_D.get_data(print_missing=False)\n",
    "data4_D.get_igan_data(102)"
   ]
  },
  {
   "cell_type": "markdown",
   "metadata": {},
   "source": [
    "Different banks can be loaded by using the ```bank_num``` argument:"
   ]
  },
  {
   "cell_type": "code",
   "execution_count": null,
   "metadata": {
    "collapsed": false
   },
   "outputs": [],
   "source": [
    "data5_D = Dataset(filepath, first_file_number, last_file_number, \n",
    "                  beamline='Gem', bank_num=5)\n",
    "data5_D.get_scan_times()\n",
    "data5_D.get_data(print_missing=False)\n",
    "data5_D.get_igan_data(102)"
   ]
  },
  {
   "cell_type": "markdown",
   "metadata": {},
   "source": [
    "Time of flight data can also be loaded by setting the ```tof``` argument:"
   ]
  },
  {
   "cell_type": "code",
   "execution_count": null,
   "metadata": {
    "collapsed": false
   },
   "outputs": [],
   "source": [
    "data4_TOF = Dataset(filepath, first_file_number, last_file_number, beamline='Gem', tof=True)\n",
    "data4_TOF.get_scan_times()\n",
    "data4_TOF.get_data(print_missing=False)\n",
    "data4_TOF.get_igan_data(102)"
   ]
  },
  {
   "cell_type": "markdown",
   "metadata": {},
   "source": [
    "Individual runs can be plotted using the ```plot``` method:"
   ]
  },
  {
   "cell_type": "code",
   "execution_count": 5,
   "metadata": {
    "collapsed": false
   },
   "outputs": [
    {
     "data": {
      "text/plain": [
       "(<matplotlib.figure.Figure at 0x7f1501563ed0>,\n",
       " <matplotlib.axes._subplots.AxesSubplot at 0x7f14fcacc7d0>)"
      ]
     },
     "execution_count": 5,
     "metadata": {},
     "output_type": "execute_result"
    }
   ],
   "source": [
    "data4_D.plot(0, legend=False)\n",
    "data4_D.plot([0, 2])"
   ]
  },
  {
   "cell_type": "markdown",
   "metadata": {},
   "source": [
    "Example of contour plotting data"
   ]
  },
  {
   "cell_type": "code",
   "execution_count": 6,
   "metadata": {
    "collapsed": false
   },
   "outputs": [
    {
     "data": {
      "text/plain": [
       "(<matplotlib.figure.Figure at 0x7f14fc72c250>,\n",
       " <matplotlib.axes._subplots.AxesSubplot at 0x7f14f5cebd50>)"
      ]
     },
     "execution_count": 6,
     "metadata": {},
     "output_type": "execute_result"
    }
   ],
   "source": [
    "data4_D.contour_plot(y_range=[1, 4.2], xlabel='Time / h', \n",
    "                     ylabel=u'd / \\u00C5', zscale='sqrt', z_range=[0, 1.8])"
   ]
  },
  {
   "cell_type": "code",
   "execution_count": 7,
   "metadata": {
    "collapsed": false
   },
   "outputs": [
    {
     "name": "stderr",
     "output_type": "stream",
     "text": [
      "/home/tomwood/anaconda2/lib/python2.7/site-packages/matplotlib/figure.py:1742: UserWarning: This figure includes Axes that are not compatible with tight_layout, so its results might be incorrect.\n",
      "  warnings.warn(\"This figure includes Axes that are not \"\n"
     ]
    },
    {
     "data": {
      "text/plain": [
       "(<matplotlib.figure.Figure at 0x7f14effb77d0>,\n",
       " <matplotlib.axes._subplots.AxesSubplot at 0x7f14f4021090>,\n",
       " <matplotlib.axes._subplots.AxesSubplot at 0x7f14eff75850>,\n",
       " <matplotlib.axes._subplots.AxesSubplot at 0x7f14efefb7d0>,\n",
       " <matplotlib.axes._subplots.AxesSubplot at 0x7f14eff03bd0>)"
      ]
     },
     "execution_count": 7,
     "metadata": {},
     "output_type": "execute_result"
    }
   ],
   "source": [
    "data4_D.contour_igan(y_range=[1, 4.2], xlabel='Time / h', \n",
    "                     ylabel=u'd / \\u00C5', zscale='sqrt', z_range=[0, 1.8])"
   ]
  },
  {
   "cell_type": "markdown",
   "metadata": {},
   "source": [
    "You can extract the run numbers and use the ```t``` argument of ```contour_plot``` to plot versus run number rather than time (this is incompatible with ```contour_igan``` currently):"
   ]
  },
  {
   "cell_type": "code",
   "execution_count": 8,
   "metadata": {
    "collapsed": false
   },
   "outputs": [
    {
     "data": {
      "text/plain": [
       "(<matplotlib.figure.Figure at 0x7f14eeee6210>,\n",
       " <matplotlib.axes._subplots.AxesSubplot at 0x7f14eeee6810>)"
      ]
     },
     "execution_count": 8,
     "metadata": {},
     "output_type": "execute_result"
    }
   ],
   "source": [
    "run_nums = data4_D.get_run_numbers()\n",
    "data4_D.contour_plot(t=run_nums, y_range=[1, 4.2],\n",
    "                     ylabel=u'd / \\u00C5', zscale='sqrt', z_range=[0, 1.8])"
   ]
  },
  {
   "cell_type": "markdown",
   "metadata": {},
   "source": [
    "Use the ```sum_dsets()``` method to sum up the data within a Dataset. "
   ]
  },
  {
   "cell_type": "code",
   "execution_count": 9,
   "metadata": {
    "collapsed": false,
    "scrolled": true
   },
   "outputs": [
    {
     "data": {
      "text/plain": [
       "(<matplotlib.figure.Figure at 0x7f14ed8bf410>,\n",
       " <matplotlib.axes._subplots.AxesSubplot at 0x7f14fd161f10>)"
      ]
     },
     "execution_count": 9,
     "metadata": {},
     "output_type": "execute_result"
    }
   ],
   "source": [
    "data4_D.sum_dsets(2).contour_plot(xlabel='Time / h') #sums every second dataset"
   ]
  },
  {
   "cell_type": "markdown",
   "metadata": {},
   "source": [
    "In order to get a sum of a data range, which can then be plotted/saved, use a large ```sum_num``` argument and the ```file_range``` argument to produce a summed Dataset. You can then use the ```to_xye()``` method to save the summed Dataset:"
   ]
  },
  {
   "cell_type": "code",
   "execution_count": 10,
   "metadata": {
    "collapsed": false
   },
   "outputs": [
    {
     "data": {
      "text/plain": [
       "(<matplotlib.figure.Figure at 0x7f14ed13a790>,\n",
       " <matplotlib.axes._subplots.AxesSubplot at 0x7f14ed16de50>)"
      ]
     },
     "execution_count": 10,
     "metadata": {},
     "output_type": "execute_result"
    }
   ],
   "source": [
    "sum_dset = data4_D.sum_dsets(1000, file_range=[81534, 81540])\n",
    "sum_dset.plot(0)\n",
    "#sum_dset.to_xye(filepath, file_nums=['81534-81540sum'])"
   ]
  },
  {
   "cell_type": "markdown",
   "metadata": {},
   "source": [
    "Plotting $\\frac{\\Delta d}{d}$ is possible by using the ```plot_deltad_over_d``` method:"
   ]
  },
  {
   "cell_type": "code",
   "execution_count": 11,
   "metadata": {
    "collapsed": false
   },
   "outputs": [
    {
     "data": {
      "text/plain": [
       "(<matplotlib.figure.Figure at 0x7f14fe1af110>,\n",
       " <matplotlib.axes._subplots.AxesSubplot at 0x7f14fd208a90>)"
      ]
     },
     "execution_count": 11,
     "metadata": {},
     "output_type": "execute_result"
    }
   ],
   "source": [
    "data4_D.plot_deltad_over_d(0, dvals=[1.2745, 2.0814], x_range=[-0.03, 0.03])"
   ]
  },
  {
   "cell_type": "code",
   "execution_count": null,
   "metadata": {
    "collapsed": true
   },
   "outputs": [],
   "source": []
  }
 ],
 "metadata": {
  "anaconda-cloud": {},
  "kernelspec": {
   "display_name": "Python [default]",
   "language": "python",
   "name": "python2"
  },
  "language_info": {
   "codemirror_mode": {
    "name": "ipython",
    "version": 2
   },
   "file_extension": ".py",
   "mimetype": "text/x-python",
   "name": "python",
   "nbconvert_exporter": "python",
   "pygments_lexer": "ipython2",
   "version": "2.7.12"
  }
 },
 "nbformat": 4,
 "nbformat_minor": 1
}
