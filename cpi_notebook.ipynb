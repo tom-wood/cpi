{
 "cells": [
  {
   "cell_type": "code",
   "execution_count": 1,
   "metadata": {
    "collapsed": false
   },
   "outputs": [],
   "source": [
    "from cpi import *\n",
    "%matplotlib qt"
   ]
  },
  {
   "cell_type": "markdown",
   "metadata": {},
   "source": [
    "Use ```plot_settings.setp()``` to set common matplotlib defaults (others can be set using ```mpl.rcParams```); ```'cmap'``` can take any of the values found here: http://matplotlib.org/users/colormaps.html (you will need to manually install viridis, plasma, magma and inferno if you want to use these)."
   ]
  },
  {
   "cell_type": "code",
   "execution_count": 2,
   "metadata": {
    "collapsed": true
   },
   "outputs": [],
   "source": [
    "plot_settings = PlotDefaults()"
   ]
  },
  {
   "cell_type": "markdown",
   "metadata": {},
   "source": [
    "Specify run number range to be examined and filepath for data files"
   ]
  },
  {
   "cell_type": "code",
   "execution_count": 3,
   "metadata": {
    "collapsed": true
   },
   "outputs": [],
   "source": [
    "first_file_number = 81531\n",
    "last_file_number = 81995\n",
    "filepath = '/home/tomwood/Documents/Beamtimes/Gem_Dec16_CMK/LiK2(ND2)3_decomp/'"
   ]
  },
  {
   "cell_type": "markdown",
   "metadata": {},
   "source": [
    "Import data from log (.log) files and from reduced data (.dat) files"
   ]
  },
  {
   "cell_type": "code",
   "execution_count": 4,
   "metadata": {
    "collapsed": false,
    "scrolled": true
   },
   "outputs": [
    {
     "name": "stdout",
     "output_type": "stream",
     "text": [
      "198 runs have some beam off (less than 100.0 uA)\n",
      "Start time = 2016-12-02T00:24:54\n",
      "End time = 2016-12-03T08:55:55\n"
     ]
    }
   ],
   "source": [
    "data4_D = Dataset(filepath, first_file_number, last_file_number, beamline='Gem')\n",
    "data4_D.get_scan_times()\n",
    "data4_D.get_data(print_missing=False)\n",
    "data4_D.get_igan_data(102)"
   ]
  },
  {
   "cell_type": "markdown",
   "metadata": {},
   "source": [
    "Example of contour plotting data"
   ]
  },
  {
   "cell_type": "code",
   "execution_count": 5,
   "metadata": {
    "collapsed": false
   },
   "outputs": [],
   "source": [
    "data4_D.contour_plot(t=data4_D.scan_times, y_range=[1, 4.2], xlabel='Time / h', \n",
    "                     ylabel=u'd / \\u00C5', zscale='sqrt', z_range=[0, 1.8])"
   ]
  },
  {
   "cell_type": "code",
   "execution_count": null,
   "metadata": {
    "collapsed": true
   },
   "outputs": [],
   "source": []
  }
 ],
 "metadata": {
  "kernelspec": {
   "display_name": "Python 2",
   "language": "python",
   "name": "python2"
  },
  "language_info": {
   "codemirror_mode": {
    "name": "ipython",
    "version": 2
   },
   "file_extension": ".py",
   "mimetype": "text/x-python",
   "name": "python",
   "nbconvert_exporter": "python",
   "pygments_lexer": "ipython2",
   "version": "2.7.12"
  }
 },
 "nbformat": 4,
 "nbformat_minor": 1
}
