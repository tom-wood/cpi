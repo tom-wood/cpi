{
 "cells": [
  {
   "cell_type": "code",
   "execution_count": 1,
   "metadata": {
    "collapsed": false
   },
   "outputs": [],
   "source": [
    "from cpi import *\n",
    "%matplotlib qt"
   ]
  },
  {
   "cell_type": "markdown",
   "metadata": {},
   "source": [
    "Use ```plot_settings.setp()``` to set common matplotlib defaults (others can be set using ```mpl.rcParams```); ```'cmap'``` can take any of the values found here: http://matplotlib.org/users/colormaps.html (you will need to manually install viridis, plasma, magma and inferno if you want to use these)."
   ]
  },
  {
   "cell_type": "code",
   "execution_count": 2,
   "metadata": {
    "collapsed": true
   },
   "outputs": [],
   "source": [
    "plot_settings = PlotDefaults()"
   ]
  },
  {
   "cell_type": "markdown",
   "metadata": {},
   "source": [
    "Specify run number range to be examined and filepath for data files"
   ]
  },
  {
   "cell_type": "code",
   "execution_count": 3,
   "metadata": {
    "collapsed": true
   },
   "outputs": [],
   "source": [
    "first_file_number = 81533\n",
    "last_file_number = 81995\n",
    "filepath = '/home/tomwood/Documents/Beamtimes/Gem_Dec16_CMK/LiK2(ND2)3_decomp/'"
   ]
  },
  {
   "cell_type": "markdown",
   "metadata": {},
   "source": [
    "Import data from log (.log) files and from reduced data (.dat) files"
   ]
  },
  {
   "cell_type": "code",
   "execution_count": 4,
   "metadata": {
    "collapsed": false,
    "scrolled": true
   },
   "outputs": [
    {
     "name": "stdout",
     "output_type": "stream",
     "text": [
      "198 runs have some beam off (less than 100.0 uA)\n",
      "Start time = 2016-12-02T04:00:45\n",
      "End time = 2016-12-03T08:55:55\n"
     ]
    }
   ],
   "source": [
    "data4_D = Dataset(filepath, first_file_number, last_file_number, beamline='Gem')\n",
    "data4_D.get_scan_times()\n",
    "data4_D.get_data(print_missing=False)\n",
    "data4_D.get_igan_data(102)"
   ]
  },
  {
   "cell_type": "code",
   "execution_count": null,
   "metadata": {
    "collapsed": true
   },
   "outputs": [],
   "source": [
    "data5_D = Dataset(filepath, first_file_number, last_file_number, \n",
    "                  beamline='Gem', bank_num=5)\n",
    "data5_D.get_scan_times()\n",
    "data5_D.get_data(print_missing=False)\n",
    "data5_D.get_igan_data(102)"
   ]
  },
  {
   "cell_type": "markdown",
   "metadata": {},
   "source": [
    "Example of contour plotting data"
   ]
  },
  {
   "cell_type": "code",
   "execution_count": 5,
   "metadata": {
    "collapsed": false
   },
   "outputs": [],
   "source": [
    "data4_D.contour_plot(y_range=[1, 4.2], xlabel='Time / h', \n",
    "                     ylabel=u'd / \\u00C5', zscale='sqrt', z_range=[0, 1.8])"
   ]
  },
  {
   "cell_type": "code",
   "execution_count": 6,
   "metadata": {
    "collapsed": false
   },
   "outputs": [
    {
     "name": "stderr",
     "output_type": "stream",
     "text": [
      "/usr/lib/python2.7/dist-packages/matplotlib/figure.py:1744: UserWarning: This figure includes Axes that are not compatible with tight_layout, so its results might be incorrect.\n",
      "  warnings.warn(\"This figure includes Axes that are not \"\n"
     ]
    }
   ],
   "source": [
    "data4_D.contour_igan(y_range=[1, 4.2], xlabel='Time / h', \n",
    "                     ylabel=u'd / \\u00C5', zscale='sqrt', z_range=[0, 1.8])"
   ]
  },
  {
   "cell_type": "markdown",
   "metadata": {},
   "source": [
    "Use the ```sum_dsets()``` method to sum up the data within a Dataset. "
   ]
  },
  {
   "cell_type": "code",
   "execution_count": 7,
   "metadata": {
    "collapsed": false,
    "scrolled": true
   },
   "outputs": [],
   "source": [
    "data4_D.sum_dsets(2).contour_plot()"
   ]
  },
  {
   "cell_type": "markdown",
   "metadata": {},
   "source": [
    "In order to get a sum of a data range, which can then be plotted/saved, use a large ```sum_num``` argument and the ```file_range``` argument to produce a summed Dataset. You can then use the ```to_xye()``` method to save the summed Dataset:"
   ]
  },
  {
   "cell_type": "code",
   "execution_count": 8,
   "metadata": {
    "collapsed": true
   },
   "outputs": [],
   "source": [
    "sum_dset = data4_D.sum_dsets(1000, file_range=[81534, 81540])\n",
    "sum_dset.plot(0)\n",
    "#sum_dset.to_xye(filepath, file_nums=['81534-81540sum'])"
   ]
  },
  {
   "cell_type": "code",
   "execution_count": null,
   "metadata": {
    "collapsed": true
   },
   "outputs": [],
   "source": []
  }
 ],
 "metadata": {
  "kernelspec": {
   "display_name": "Python 2",
   "language": "python",
   "name": "python2"
  },
  "language_info": {
   "codemirror_mode": {
    "name": "ipython",
    "version": 2
   },
   "file_extension": ".py",
   "mimetype": "text/x-python",
   "name": "python",
   "nbconvert_exporter": "python",
   "pygments_lexer": "ipython2",
   "version": "2.7.12"
  }
 },
 "nbformat": 4,
 "nbformat_minor": 1
}
