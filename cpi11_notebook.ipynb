{
 "cells": [
  {
   "cell_type": "code",
   "execution_count": 1,
   "metadata": {
    "collapsed": false
   },
   "outputs": [],
   "source": [
    "from cpi11 import *\n",
    "%matplotlib qt5"
   ]
  },
  {
   "cell_type": "markdown",
   "metadata": {},
   "source": [
    "Use ```plot_settings.setp()``` to set common matplotlib defaults (others can be set using ```mpl.rcParams```); ```'cmap'``` can take any of the values found here: http://matplotlib.org/users/colormaps.html (you will need to manually install viridis, plasma, magma and inferno if you want to use these)."
   ]
  },
  {
   "cell_type": "code",
   "execution_count": 2,
   "metadata": {
    "collapsed": true
   },
   "outputs": [],
   "source": [
    "plot_settings = PlotDefaults()"
   ]
  },
  {
   "cell_type": "markdown",
   "metadata": {},
   "source": [
    "Specify run number range to be examined and filepath for data files"
   ]
  },
  {
   "cell_type": "code",
   "execution_count": 3,
   "metadata": {
    "collapsed": true
   },
   "outputs": [],
   "source": [
    "first_file_number = 395532\n",
    "last_file_number = 395553\n",
    "filepath = '/home/tomwood/Documents/Beamtimes/I11_May15/Rebinned_data/'"
   ]
  },
  {
   "cell_type": "markdown",
   "metadata": {},
   "source": [
    "Import data from log (.log) files and from reduced data (.dat) files"
   ]
  },
  {
   "cell_type": "code",
   "execution_count": 4,
   "metadata": {
    "collapsed": false,
    "scrolled": true
   },
   "outputs": [],
   "source": [
    "data = Dataset(filepath, first_file_number, last_file_number)\n",
    "data.get_data(print_missing=True)"
   ]
  },
  {
   "cell_type": "markdown",
   "metadata": {},
   "source": [
    "Example of contour plotting data"
   ]
  },
  {
   "cell_type": "code",
   "execution_count": 5,
   "metadata": {
    "collapsed": false
   },
   "outputs": [],
   "source": [
    "data.contour_plot(y_range=[0, 40], z_range=[0, 1000], zscale='sqrt')"
   ]
  },
  {
   "cell_type": "markdown",
   "metadata": {},
   "source": [
    "You can extract the run numbers and use the ```t``` argument of ```contour_plot``` to plot absolute run number on the x-axis:"
   ]
  },
  {
   "cell_type": "code",
   "execution_count": 6,
   "metadata": {
    "collapsed": true
   },
   "outputs": [],
   "source": [
    "run_nums = data.get_run_numbers()\n",
    "data.contour_plot(t=run_nums, y_range=[0, 40], z_range=[0, 1000], zscale='sqrt')"
   ]
  },
  {
   "cell_type": "markdown",
   "metadata": {},
   "source": [
    "Use the ```sum_dsets()``` method to sum up the data within a Dataset. "
   ]
  },
  {
   "cell_type": "code",
   "execution_count": 7,
   "metadata": {
    "collapsed": false,
    "scrolled": true
   },
   "outputs": [],
   "source": [
    "data.sum_dsets(2).contour_plot(y_range=[0, 40], z_range=[0, 1000], zscale='sqrt') #sums every second dataset"
   ]
  },
  {
   "cell_type": "markdown",
   "metadata": {},
   "source": [
    "In order to get a sum of a data range, which can then be plotted/saved, use a large ```sum_num``` argument and the ```file_range``` argument to produce a summed Dataset. You can then use the ```to_xye()``` method to save the summed Dataset:"
   ]
  },
  {
   "cell_type": "code",
   "execution_count": 8,
   "metadata": {
    "collapsed": false
   },
   "outputs": [],
   "source": [
    "sum_dset = data.sum_dsets(1000, file_range=[395532, 395535])\n",
    "sum_dset.plot(0)\n",
    "#sum_dset.to_xye(filepath, file_nums=['81534-81540sum'])"
   ]
  },
  {
   "cell_type": "code",
   "execution_count": null,
   "metadata": {
    "collapsed": true
   },
   "outputs": [],
   "source": []
  }
 ],
 "metadata": {
  "anaconda-cloud": {},
  "kernelspec": {
   "display_name": "Python [default]",
   "language": "python",
   "name": "python2"
  },
  "language_info": {
   "codemirror_mode": {
    "name": "ipython",
    "version": 2
   },
   "file_extension": ".py",
   "mimetype": "text/x-python",
   "name": "python",
   "nbconvert_exporter": "python",
   "pygments_lexer": "ipython2",
   "version": "2.7.12"
  }
 },
 "nbformat": 4,
 "nbformat_minor": 1
}
