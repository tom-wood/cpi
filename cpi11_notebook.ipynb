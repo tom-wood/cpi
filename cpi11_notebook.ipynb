{
 "cells": [
  {
   "cell_type": "code",
   "execution_count": 1,
   "metadata": {
    "collapsed": false
   },
   "outputs": [],
   "source": [
    "from cpi11 import *"
   ]
  },
  {
   "cell_type": "markdown",
   "metadata": {},
   "source": [
    "Use ```plot_settings.setp()``` to set common matplotlib defaults (others can be set using ```mpl.rcParams```); ```'cmap'``` can take any of the values found here: http://matplotlib.org/users/colormaps.html (you will need to manually install viridis, plasma, magma and inferno if you want to use these)."
   ]
  },
  {
   "cell_type": "code",
   "execution_count": 2,
   "metadata": {
    "collapsed": true
   },
   "outputs": [],
   "source": [
    "plot_settings = PlotDefaults()"
   ]
  },
  {
   "cell_type": "markdown",
   "metadata": {},
   "source": [
    "Specify run number range to be examined and filepath for data files"
   ]
  },
  {
   "cell_type": "code",
   "execution_count": 3,
   "metadata": {
    "collapsed": true
   },
   "outputs": [],
   "source": [
    "first_file_number = 561100\n",
    "last_file_number = 561115\n",
    "filepath = '/home/tomwood/Documents/Beamtimes/I11_Feb17_TMnitriding/'"
   ]
  },
  {
   "cell_type": "markdown",
   "metadata": {},
   "source": [
    "Import data from log (.log) files and from reduced data (.dat) files"
   ]
  },
  {
   "cell_type": "code",
   "execution_count": 4,
   "metadata": {
    "collapsed": false,
    "scrolled": true
   },
   "outputs": [],
   "source": [
    "data = Dataset(filepath, first_file_number, last_file_number)\n",
    "data.get_data(print_missing=True)\n",
    "data.get_temps()"
   ]
  },
  {
   "cell_type": "markdown",
   "metadata": {},
   "source": [
    "Example of contour plotting data"
   ]
  },
  {
   "cell_type": "code",
   "execution_count": 5,
   "metadata": {
    "collapsed": false
   },
   "outputs": [],
   "source": [
    "data.contour_plot(y_range=[0, 40], z_range=[0, 1000], zscale='sqrt')"
   ]
  },
  {
   "cell_type": "code",
   "execution_count": 6,
   "metadata": {
    "collapsed": false
   },
   "outputs": [
    {
     "name": "stderr",
     "output_type": "stream",
     "text": [
      "/home/tomwood/anaconda2/lib/python2.7/site-packages/matplotlib/figure.py:1742: UserWarning: This figure includes Axes that are not compatible with tight_layout, so its results might be incorrect.\n",
      "  warnings.warn(\"This figure includes Axes that are not \"\n"
     ]
    }
   ],
   "source": [
    "data.contour_temp(y_range=[0, 40], z_range=[0, 1000], zscale='sqrt')"
   ]
  },
  {
   "cell_type": "markdown",
   "metadata": {},
   "source": [
    "You can extract the run numbers and use the ```t``` argument of ```contour_plot``` to plot absolute run number on the x-axis:"
   ]
  },
  {
   "cell_type": "code",
   "execution_count": 7,
   "metadata": {
    "collapsed": true
   },
   "outputs": [],
   "source": [
    "run_nums = data.get_run_numbers()\n",
    "data.contour_plot(t=run_nums, y_range=[0, 40], z_range=[0, 1000], zscale='sqrt')"
   ]
  },
  {
   "cell_type": "markdown",
   "metadata": {},
   "source": [
    "Use the ```sum_dsets()``` method to sum up the data within a Dataset. "
   ]
  },
  {
   "cell_type": "code",
   "execution_count": 8,
   "metadata": {
    "collapsed": false,
    "scrolled": true
   },
   "outputs": [],
   "source": [
    "data.sum_dsets(2).contour_plot(y_range=[0, 40], z_range=[0, 1000], zscale='sqrt') #sums every second dataset"
   ]
  },
  {
   "cell_type": "markdown",
   "metadata": {},
   "source": [
    "In order to get a sum of a data range, which can then be plotted/saved, use a large ```sum_num``` argument and the ```file_range``` argument to produce a summed Dataset. You can then use the ```to_xye()``` method to save the summed Dataset:"
   ]
  },
  {
   "cell_type": "code",
   "execution_count": 10,
   "metadata": {
    "collapsed": false
   },
   "outputs": [],
   "source": [
    "sum_dset = data.sum_dsets(1000, file_range=[561100, 561111])\n",
    "sum_dset.plot(0)\n",
    "#sum_dset.to_xye(filepath, file_nums=['81534-81540sum'])"
   ]
  },
  {
   "cell_type": "code",
   "execution_count": null,
   "metadata": {
    "collapsed": true
   },
   "outputs": [],
   "source": []
  }
 ],
 "metadata": {
  "anaconda-cloud": {},
  "kernelspec": {
   "display_name": "Python [default]",
   "language": "python",
   "name": "python2"
  },
  "language_info": {
   "codemirror_mode": {
    "name": "ipython",
    "version": 2
   },
   "file_extension": ".py",
   "mimetype": "text/x-python",
   "name": "python",
   "nbconvert_exporter": "python",
   "pygments_lexer": "ipython2",
   "version": "2.7.12"
  }
 },
 "nbformat": 4,
 "nbformat_minor": 1
}
